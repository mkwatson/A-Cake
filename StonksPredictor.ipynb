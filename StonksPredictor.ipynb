{
  "nbformat": 4,
  "nbformat_minor": 0,
  "metadata": {
    "colab": {
      "provenance": [],
      "gpuType": "T4",
      "mount_file_id": "1DX8cAqQxMuzSMEY4gwt6Hf2XwM-ttnkL",
      "authorship_tag": "ABX9TyP/TDJFPt6yyqGekmKakOGZ",
      "include_colab_link": true
    },
    "kernelspec": {
      "name": "python3",
      "display_name": "Python 3"
    },
    "language_info": {
      "name": "python"
    },
    "accelerator": "GPU"
  },
  "cells": [
    {
      "cell_type": "markdown",
      "metadata": {
        "id": "view-in-github",
        "colab_type": "text"
      },
      "source": [
        "<a href=\"https://colab.research.google.com/github/mkwatson/A-Cake/blob/master/StonksPredictor.ipynb\" target=\"_parent\"><img src=\"https://colab.research.google.com/assets/colab-badge.svg\" alt=\"Open In Colab\"/></a>"
      ]
    },
    {
      "cell_type": "code",
      "execution_count": 6,
      "metadata": {
        "colab": {
          "base_uri": "https://localhost:8080/"
        },
        "id": "OmrSDM382WMU",
        "outputId": "bcfa10b6-0907-436b-8854-3d3114f63484",
        "collapsed": true
      },
      "outputs": [
        {
          "output_type": "stream",
          "name": "stdout",
          "text": [
            "Requirement already satisfied: fastai in /usr/local/lib/python3.10/dist-packages (2.7.16)\n",
            "Requirement already satisfied: pandas in /usr/local/lib/python3.10/dist-packages (2.1.4)\n",
            "Requirement already satisfied: numpy in /usr/local/lib/python3.10/dist-packages (1.26.4)\n",
            "Requirement already satisfied: matplotlib in /usr/local/lib/python3.10/dist-packages (3.7.1)\n",
            "Requirement already satisfied: pip in /usr/local/lib/python3.10/dist-packages (from fastai) (24.1.2)\n",
            "Requirement already satisfied: packaging in /usr/local/lib/python3.10/dist-packages (from fastai) (24.1)\n",
            "Requirement already satisfied: fastdownload<2,>=0.0.5 in /usr/local/lib/python3.10/dist-packages (from fastai) (0.0.7)\n",
            "Requirement already satisfied: fastcore<1.6,>=1.5.29 in /usr/local/lib/python3.10/dist-packages (from fastai) (1.5.55)\n",
            "Requirement already satisfied: torchvision>=0.11 in /usr/local/lib/python3.10/dist-packages (from fastai) (0.18.1+cu121)\n",
            "Requirement already satisfied: requests in /usr/local/lib/python3.10/dist-packages (from fastai) (2.32.3)\n",
            "Requirement already satisfied: pyyaml in /usr/local/lib/python3.10/dist-packages (from fastai) (6.0.2)\n",
            "Requirement already satisfied: fastprogress>=0.2.4 in /usr/local/lib/python3.10/dist-packages (from fastai) (1.0.3)\n",
            "Requirement already satisfied: pillow>=9.0.0 in /usr/local/lib/python3.10/dist-packages (from fastai) (9.4.0)\n",
            "Requirement already satisfied: scikit-learn in /usr/local/lib/python3.10/dist-packages (from fastai) (1.3.2)\n",
            "Requirement already satisfied: scipy in /usr/local/lib/python3.10/dist-packages (from fastai) (1.13.1)\n",
            "Requirement already satisfied: spacy<4 in /usr/local/lib/python3.10/dist-packages (from fastai) (3.7.5)\n",
            "Requirement already satisfied: torch<2.5,>=1.10 in /usr/local/lib/python3.10/dist-packages (from fastai) (2.3.1+cu121)\n",
            "Requirement already satisfied: python-dateutil>=2.8.2 in /usr/local/lib/python3.10/dist-packages (from pandas) (2.8.2)\n",
            "Requirement already satisfied: pytz>=2020.1 in /usr/local/lib/python3.10/dist-packages (from pandas) (2024.1)\n",
            "Requirement already satisfied: tzdata>=2022.1 in /usr/local/lib/python3.10/dist-packages (from pandas) (2024.1)\n",
            "Requirement already satisfied: contourpy>=1.0.1 in /usr/local/lib/python3.10/dist-packages (from matplotlib) (1.2.1)\n",
            "Requirement already satisfied: cycler>=0.10 in /usr/local/lib/python3.10/dist-packages (from matplotlib) (0.12.1)\n",
            "Requirement already satisfied: fonttools>=4.22.0 in /usr/local/lib/python3.10/dist-packages (from matplotlib) (4.53.1)\n",
            "Requirement already satisfied: kiwisolver>=1.0.1 in /usr/local/lib/python3.10/dist-packages (from matplotlib) (1.4.5)\n",
            "Requirement already satisfied: pyparsing>=2.3.1 in /usr/local/lib/python3.10/dist-packages (from matplotlib) (3.1.2)\n",
            "Requirement already satisfied: six>=1.5 in /usr/local/lib/python3.10/dist-packages (from python-dateutil>=2.8.2->pandas) (1.16.0)\n",
            "Requirement already satisfied: spacy-legacy<3.1.0,>=3.0.11 in /usr/local/lib/python3.10/dist-packages (from spacy<4->fastai) (3.0.12)\n",
            "Requirement already satisfied: spacy-loggers<2.0.0,>=1.0.0 in /usr/local/lib/python3.10/dist-packages (from spacy<4->fastai) (1.0.5)\n",
            "Requirement already satisfied: murmurhash<1.1.0,>=0.28.0 in /usr/local/lib/python3.10/dist-packages (from spacy<4->fastai) (1.0.10)\n",
            "Requirement already satisfied: cymem<2.1.0,>=2.0.2 in /usr/local/lib/python3.10/dist-packages (from spacy<4->fastai) (2.0.8)\n",
            "Requirement already satisfied: preshed<3.1.0,>=3.0.2 in /usr/local/lib/python3.10/dist-packages (from spacy<4->fastai) (3.0.9)\n",
            "Requirement already satisfied: thinc<8.3.0,>=8.2.2 in /usr/local/lib/python3.10/dist-packages (from spacy<4->fastai) (8.2.5)\n",
            "Requirement already satisfied: wasabi<1.2.0,>=0.9.1 in /usr/local/lib/python3.10/dist-packages (from spacy<4->fastai) (1.1.3)\n",
            "Requirement already satisfied: srsly<3.0.0,>=2.4.3 in /usr/local/lib/python3.10/dist-packages (from spacy<4->fastai) (2.4.8)\n",
            "Requirement already satisfied: catalogue<2.1.0,>=2.0.6 in /usr/local/lib/python3.10/dist-packages (from spacy<4->fastai) (2.0.10)\n",
            "Requirement already satisfied: weasel<0.5.0,>=0.1.0 in /usr/local/lib/python3.10/dist-packages (from spacy<4->fastai) (0.4.1)\n",
            "Requirement already satisfied: typer<1.0.0,>=0.3.0 in /usr/local/lib/python3.10/dist-packages (from spacy<4->fastai) (0.12.3)\n",
            "Requirement already satisfied: tqdm<5.0.0,>=4.38.0 in /usr/local/lib/python3.10/dist-packages (from spacy<4->fastai) (4.66.5)\n",
            "Requirement already satisfied: pydantic!=1.8,!=1.8.1,<3.0.0,>=1.7.4 in /usr/local/lib/python3.10/dist-packages (from spacy<4->fastai) (2.8.2)\n",
            "Requirement already satisfied: jinja2 in /usr/local/lib/python3.10/dist-packages (from spacy<4->fastai) (3.1.4)\n",
            "Requirement already satisfied: setuptools in /usr/local/lib/python3.10/dist-packages (from spacy<4->fastai) (71.0.4)\n",
            "Requirement already satisfied: langcodes<4.0.0,>=3.2.0 in /usr/local/lib/python3.10/dist-packages (from spacy<4->fastai) (3.4.0)\n",
            "Requirement already satisfied: charset-normalizer<4,>=2 in /usr/local/lib/python3.10/dist-packages (from requests->fastai) (3.3.2)\n",
            "Requirement already satisfied: idna<4,>=2.5 in /usr/local/lib/python3.10/dist-packages (from requests->fastai) (3.7)\n",
            "Requirement already satisfied: urllib3<3,>=1.21.1 in /usr/local/lib/python3.10/dist-packages (from requests->fastai) (2.0.7)\n",
            "Requirement already satisfied: certifi>=2017.4.17 in /usr/local/lib/python3.10/dist-packages (from requests->fastai) (2024.7.4)\n",
            "Requirement already satisfied: filelock in /usr/local/lib/python3.10/dist-packages (from torch<2.5,>=1.10->fastai) (3.15.4)\n",
            "Requirement already satisfied: typing-extensions>=4.8.0 in /usr/local/lib/python3.10/dist-packages (from torch<2.5,>=1.10->fastai) (4.12.2)\n",
            "Requirement already satisfied: sympy in /usr/local/lib/python3.10/dist-packages (from torch<2.5,>=1.10->fastai) (1.13.2)\n",
            "Requirement already satisfied: networkx in /usr/local/lib/python3.10/dist-packages (from torch<2.5,>=1.10->fastai) (3.3)\n",
            "Requirement already satisfied: fsspec in /usr/local/lib/python3.10/dist-packages (from torch<2.5,>=1.10->fastai) (2024.6.1)\n",
            "Collecting nvidia-cuda-nvrtc-cu12==12.1.105 (from torch<2.5,>=1.10->fastai)\n",
            "  Using cached nvidia_cuda_nvrtc_cu12-12.1.105-py3-none-manylinux1_x86_64.whl.metadata (1.5 kB)\n",
            "Collecting nvidia-cuda-runtime-cu12==12.1.105 (from torch<2.5,>=1.10->fastai)\n",
            "  Using cached nvidia_cuda_runtime_cu12-12.1.105-py3-none-manylinux1_x86_64.whl.metadata (1.5 kB)\n",
            "Collecting nvidia-cuda-cupti-cu12==12.1.105 (from torch<2.5,>=1.10->fastai)\n",
            "  Using cached nvidia_cuda_cupti_cu12-12.1.105-py3-none-manylinux1_x86_64.whl.metadata (1.6 kB)\n",
            "Collecting nvidia-cudnn-cu12==8.9.2.26 (from torch<2.5,>=1.10->fastai)\n",
            "  Using cached nvidia_cudnn_cu12-8.9.2.26-py3-none-manylinux1_x86_64.whl.metadata (1.6 kB)\n",
            "Collecting nvidia-cublas-cu12==12.1.3.1 (from torch<2.5,>=1.10->fastai)\n",
            "  Using cached nvidia_cublas_cu12-12.1.3.1-py3-none-manylinux1_x86_64.whl.metadata (1.5 kB)\n",
            "Collecting nvidia-cufft-cu12==11.0.2.54 (from torch<2.5,>=1.10->fastai)\n",
            "  Using cached nvidia_cufft_cu12-11.0.2.54-py3-none-manylinux1_x86_64.whl.metadata (1.5 kB)\n",
            "Requirement already satisfied: nvidia-curand-cu12==10.3.2.106 in /usr/local/lib/python3.10/dist-packages (from torch<2.5,>=1.10->fastai) (10.3.2.106)\n",
            "Collecting nvidia-cusolver-cu12==11.4.5.107 (from torch<2.5,>=1.10->fastai)\n",
            "  Using cached nvidia_cusolver_cu12-11.4.5.107-py3-none-manylinux1_x86_64.whl.metadata (1.6 kB)\n",
            "Collecting nvidia-cusparse-cu12==12.1.0.106 (from torch<2.5,>=1.10->fastai)\n",
            "  Using cached nvidia_cusparse_cu12-12.1.0.106-py3-none-manylinux1_x86_64.whl.metadata (1.6 kB)\n",
            "Requirement already satisfied: nvidia-nccl-cu12==2.20.5 in /usr/local/lib/python3.10/dist-packages (from torch<2.5,>=1.10->fastai) (2.20.5)\n",
            "Requirement already satisfied: nvidia-nvtx-cu12==12.1.105 in /usr/local/lib/python3.10/dist-packages (from torch<2.5,>=1.10->fastai) (12.1.105)\n",
            "Requirement already satisfied: triton==2.3.1 in /usr/local/lib/python3.10/dist-packages (from torch<2.5,>=1.10->fastai) (2.3.1)\n",
            "Requirement already satisfied: nvidia-nvjitlink-cu12 in /usr/local/lib/python3.10/dist-packages (from nvidia-cusolver-cu12==11.4.5.107->torch<2.5,>=1.10->fastai) (12.6.20)\n",
            "Requirement already satisfied: joblib>=1.1.1 in /usr/local/lib/python3.10/dist-packages (from scikit-learn->fastai) (1.4.2)\n",
            "Requirement already satisfied: threadpoolctl>=2.0.0 in /usr/local/lib/python3.10/dist-packages (from scikit-learn->fastai) (3.5.0)\n",
            "Requirement already satisfied: language-data>=1.2 in /usr/local/lib/python3.10/dist-packages (from langcodes<4.0.0,>=3.2.0->spacy<4->fastai) (1.2.0)\n",
            "Requirement already satisfied: annotated-types>=0.4.0 in /usr/local/lib/python3.10/dist-packages (from pydantic!=1.8,!=1.8.1,<3.0.0,>=1.7.4->spacy<4->fastai) (0.7.0)\n",
            "Requirement already satisfied: pydantic-core==2.20.1 in /usr/local/lib/python3.10/dist-packages (from pydantic!=1.8,!=1.8.1,<3.0.0,>=1.7.4->spacy<4->fastai) (2.20.1)\n",
            "Requirement already satisfied: blis<0.8.0,>=0.7.8 in /usr/local/lib/python3.10/dist-packages (from thinc<8.3.0,>=8.2.2->spacy<4->fastai) (0.7.11)\n",
            "Requirement already satisfied: confection<1.0.0,>=0.0.1 in /usr/local/lib/python3.10/dist-packages (from thinc<8.3.0,>=8.2.2->spacy<4->fastai) (0.1.5)\n",
            "Requirement already satisfied: click>=8.0.0 in /usr/local/lib/python3.10/dist-packages (from typer<1.0.0,>=0.3.0->spacy<4->fastai) (8.1.7)\n",
            "Requirement already satisfied: shellingham>=1.3.0 in /usr/local/lib/python3.10/dist-packages (from typer<1.0.0,>=0.3.0->spacy<4->fastai) (1.5.4)\n",
            "Requirement already satisfied: rich>=10.11.0 in /usr/local/lib/python3.10/dist-packages (from typer<1.0.0,>=0.3.0->spacy<4->fastai) (13.7.1)\n",
            "Requirement already satisfied: cloudpathlib<1.0.0,>=0.7.0 in /usr/local/lib/python3.10/dist-packages (from weasel<0.5.0,>=0.1.0->spacy<4->fastai) (0.18.1)\n",
            "Requirement already satisfied: smart-open<8.0.0,>=5.2.1 in /usr/local/lib/python3.10/dist-packages (from weasel<0.5.0,>=0.1.0->spacy<4->fastai) (7.0.4)\n",
            "Requirement already satisfied: MarkupSafe>=2.0 in /usr/local/lib/python3.10/dist-packages (from jinja2->spacy<4->fastai) (2.1.5)\n",
            "Requirement already satisfied: mpmath<1.4,>=1.1.0 in /usr/local/lib/python3.10/dist-packages (from sympy->torch<2.5,>=1.10->fastai) (1.3.0)\n",
            "Requirement already satisfied: marisa-trie>=0.7.7 in /usr/local/lib/python3.10/dist-packages (from language-data>=1.2->langcodes<4.0.0,>=3.2.0->spacy<4->fastai) (1.2.0)\n",
            "Requirement already satisfied: markdown-it-py>=2.2.0 in /usr/local/lib/python3.10/dist-packages (from rich>=10.11.0->typer<1.0.0,>=0.3.0->spacy<4->fastai) (3.0.0)\n",
            "Requirement already satisfied: pygments<3.0.0,>=2.13.0 in /usr/local/lib/python3.10/dist-packages (from rich>=10.11.0->typer<1.0.0,>=0.3.0->spacy<4->fastai) (2.16.1)\n",
            "Requirement already satisfied: wrapt in /usr/local/lib/python3.10/dist-packages (from smart-open<8.0.0,>=5.2.1->weasel<0.5.0,>=0.1.0->spacy<4->fastai) (1.16.0)\n",
            "Requirement already satisfied: mdurl~=0.1 in /usr/local/lib/python3.10/dist-packages (from markdown-it-py>=2.2.0->rich>=10.11.0->typer<1.0.0,>=0.3.0->spacy<4->fastai) (0.1.2)\n",
            "Using cached nvidia_cublas_cu12-12.1.3.1-py3-none-manylinux1_x86_64.whl (410.6 MB)\n",
            "Using cached nvidia_cuda_cupti_cu12-12.1.105-py3-none-manylinux1_x86_64.whl (14.1 MB)\n",
            "Using cached nvidia_cuda_nvrtc_cu12-12.1.105-py3-none-manylinux1_x86_64.whl (23.7 MB)\n",
            "Using cached nvidia_cuda_runtime_cu12-12.1.105-py3-none-manylinux1_x86_64.whl (823 kB)\n",
            "Using cached nvidia_cudnn_cu12-8.9.2.26-py3-none-manylinux1_x86_64.whl (731.7 MB)\n",
            "Using cached nvidia_cufft_cu12-11.0.2.54-py3-none-manylinux1_x86_64.whl (121.6 MB)\n",
            "Using cached nvidia_cusolver_cu12-11.4.5.107-py3-none-manylinux1_x86_64.whl (124.2 MB)\n",
            "Using cached nvidia_cusparse_cu12-12.1.0.106-py3-none-manylinux1_x86_64.whl (196.0 MB)\n",
            "Installing collected packages: nvidia-cusparse-cu12, nvidia-cufft-cu12, nvidia-cuda-runtime-cu12, nvidia-cuda-nvrtc-cu12, nvidia-cuda-cupti-cu12, nvidia-cublas-cu12, nvidia-cusolver-cu12, nvidia-cudnn-cu12\n",
            "Successfully installed nvidia-cublas-cu12-12.1.3.1 nvidia-cuda-cupti-cu12-12.1.105 nvidia-cuda-nvrtc-cu12-12.1.105 nvidia-cuda-runtime-cu12-12.1.105 nvidia-cudnn-cu12-8.9.2.26 nvidia-cufft-cu12-11.0.2.54 nvidia-cusolver-cu12-11.4.5.107 nvidia-cusparse-cu12-12.1.0.106\n",
            "Collecting pyts\n",
            "  Using cached pyts-0.13.0-py3-none-any.whl.metadata (10 kB)\n",
            "Collecting timm\n",
            "  Using cached timm-1.0.8-py3-none-any.whl.metadata (53 kB)\n",
            "Requirement already satisfied: numpy>=1.22.4 in /usr/local/lib/python3.10/dist-packages (from pyts) (1.26.4)\n",
            "Requirement already satisfied: scipy>=1.8.1 in /usr/local/lib/python3.10/dist-packages (from pyts) (1.13.1)\n",
            "Requirement already satisfied: scikit-learn>=1.2.0 in /usr/local/lib/python3.10/dist-packages (from pyts) (1.3.2)\n",
            "Requirement already satisfied: joblib>=1.1.1 in /usr/local/lib/python3.10/dist-packages (from pyts) (1.4.2)\n",
            "Requirement already satisfied: numba>=0.55.2 in /usr/local/lib/python3.10/dist-packages (from pyts) (0.60.0)\n",
            "Requirement already satisfied: torch in /usr/local/lib/python3.10/dist-packages (from timm) (2.3.1+cu121)\n",
            "Requirement already satisfied: torchvision in /usr/local/lib/python3.10/dist-packages (from timm) (0.18.1+cu121)\n",
            "Requirement already satisfied: pyyaml in /usr/local/lib/python3.10/dist-packages (from timm) (6.0.2)\n",
            "Requirement already satisfied: huggingface_hub in /usr/local/lib/python3.10/dist-packages (from timm) (0.23.5)\n",
            "Requirement already satisfied: safetensors in /usr/local/lib/python3.10/dist-packages (from timm) (0.4.4)\n",
            "Requirement already satisfied: llvmlite<0.44,>=0.43.0dev0 in /usr/local/lib/python3.10/dist-packages (from numba>=0.55.2->pyts) (0.43.0)\n",
            "Requirement already satisfied: threadpoolctl>=2.0.0 in /usr/local/lib/python3.10/dist-packages (from scikit-learn>=1.2.0->pyts) (3.5.0)\n",
            "Requirement already satisfied: filelock in /usr/local/lib/python3.10/dist-packages (from huggingface_hub->timm) (3.15.4)\n",
            "Requirement already satisfied: fsspec>=2023.5.0 in /usr/local/lib/python3.10/dist-packages (from huggingface_hub->timm) (2024.6.1)\n",
            "Requirement already satisfied: packaging>=20.9 in /usr/local/lib/python3.10/dist-packages (from huggingface_hub->timm) (24.1)\n",
            "Requirement already satisfied: requests in /usr/local/lib/python3.10/dist-packages (from huggingface_hub->timm) (2.32.3)\n",
            "Requirement already satisfied: tqdm>=4.42.1 in /usr/local/lib/python3.10/dist-packages (from huggingface_hub->timm) (4.66.5)\n",
            "Requirement already satisfied: typing-extensions>=3.7.4.3 in /usr/local/lib/python3.10/dist-packages (from huggingface_hub->timm) (4.12.2)\n",
            "Requirement already satisfied: sympy in /usr/local/lib/python3.10/dist-packages (from torch->timm) (1.13.2)\n",
            "Requirement already satisfied: networkx in /usr/local/lib/python3.10/dist-packages (from torch->timm) (3.3)\n",
            "Requirement already satisfied: jinja2 in /usr/local/lib/python3.10/dist-packages (from torch->timm) (3.1.4)\n",
            "Requirement already satisfied: nvidia-cuda-nvrtc-cu12==12.1.105 in /usr/local/lib/python3.10/dist-packages (from torch->timm) (12.1.105)\n",
            "Requirement already satisfied: nvidia-cuda-runtime-cu12==12.1.105 in /usr/local/lib/python3.10/dist-packages (from torch->timm) (12.1.105)\n",
            "Requirement already satisfied: nvidia-cuda-cupti-cu12==12.1.105 in /usr/local/lib/python3.10/dist-packages (from torch->timm) (12.1.105)\n",
            "Requirement already satisfied: nvidia-cudnn-cu12==8.9.2.26 in /usr/local/lib/python3.10/dist-packages (from torch->timm) (8.9.2.26)\n",
            "Requirement already satisfied: nvidia-cublas-cu12==12.1.3.1 in /usr/local/lib/python3.10/dist-packages (from torch->timm) (12.1.3.1)\n",
            "Requirement already satisfied: nvidia-cufft-cu12==11.0.2.54 in /usr/local/lib/python3.10/dist-packages (from torch->timm) (11.0.2.54)\n",
            "Requirement already satisfied: nvidia-curand-cu12==10.3.2.106 in /usr/local/lib/python3.10/dist-packages (from torch->timm) (10.3.2.106)\n",
            "Requirement already satisfied: nvidia-cusolver-cu12==11.4.5.107 in /usr/local/lib/python3.10/dist-packages (from torch->timm) (11.4.5.107)\n",
            "Requirement already satisfied: nvidia-cusparse-cu12==12.1.0.106 in /usr/local/lib/python3.10/dist-packages (from torch->timm) (12.1.0.106)\n",
            "Requirement already satisfied: nvidia-nccl-cu12==2.20.5 in /usr/local/lib/python3.10/dist-packages (from torch->timm) (2.20.5)\n",
            "Requirement already satisfied: nvidia-nvtx-cu12==12.1.105 in /usr/local/lib/python3.10/dist-packages (from torch->timm) (12.1.105)\n",
            "Requirement already satisfied: triton==2.3.1 in /usr/local/lib/python3.10/dist-packages (from torch->timm) (2.3.1)\n",
            "Requirement already satisfied: nvidia-nvjitlink-cu12 in /usr/local/lib/python3.10/dist-packages (from nvidia-cusolver-cu12==11.4.5.107->torch->timm) (12.6.20)\n",
            "Requirement already satisfied: pillow!=8.3.*,>=5.3.0 in /usr/local/lib/python3.10/dist-packages (from torchvision->timm) (9.4.0)\n",
            "Requirement already satisfied: MarkupSafe>=2.0 in /usr/local/lib/python3.10/dist-packages (from jinja2->torch->timm) (2.1.5)\n",
            "Requirement already satisfied: charset-normalizer<4,>=2 in /usr/local/lib/python3.10/dist-packages (from requests->huggingface_hub->timm) (3.3.2)\n",
            "Requirement already satisfied: idna<4,>=2.5 in /usr/local/lib/python3.10/dist-packages (from requests->huggingface_hub->timm) (3.7)\n",
            "Requirement already satisfied: urllib3<3,>=1.21.1 in /usr/local/lib/python3.10/dist-packages (from requests->huggingface_hub->timm) (2.0.7)\n",
            "Requirement already satisfied: certifi>=2017.4.17 in /usr/local/lib/python3.10/dist-packages (from requests->huggingface_hub->timm) (2024.7.4)\n",
            "Requirement already satisfied: mpmath<1.4,>=1.1.0 in /usr/local/lib/python3.10/dist-packages (from sympy->torch->timm) (1.3.0)\n",
            "Using cached pyts-0.13.0-py3-none-any.whl (2.5 MB)\n",
            "Using cached timm-1.0.8-py3-none-any.whl (2.3 MB)\n",
            "Installing collected packages: pyts, timm\n",
            "Successfully installed pyts-0.13.0 timm-1.0.8\n"
          ]
        }
      ],
      "source": [
        "!pip install fastai pandas numpy matplotlib\n",
        "!pip install pyts timm"
      ]
    },
    {
      "cell_type": "code",
      "source": [
        "from fastai.tabular.all import *\n",
        "import pandas as pd\n",
        "import numpy as np\n",
        "import matplotlib.pyplot as plt"
      ],
      "metadata": {
        "id": "li4oRRGE2eFb"
      },
      "execution_count": 7,
      "outputs": []
    },
    {
      "cell_type": "code",
      "source": [
        "from google.colab import drive\n",
        "drive.mount('/content/drive')"
      ],
      "metadata": {
        "colab": {
          "base_uri": "https://localhost:8080/"
        },
        "id": "kUmJVSf-2346",
        "outputId": "f79baeca-8604-4e06-c6cb-a50b5a8c2f29"
      },
      "execution_count": 8,
      "outputs": [
        {
          "output_type": "stream",
          "name": "stdout",
          "text": [
            "Drive already mounted at /content/drive; to attempt to forcibly remount, call drive.mount(\"/content/drive\", force_remount=True).\n"
          ]
        }
      ]
    },
    {
      "cell_type": "code",
      "source": [
        "!ls \"/content/drive/My Drive/Stonks Predictor/\""
      ],
      "metadata": {
        "colab": {
          "base_uri": "https://localhost:8080/"
        },
        "id": "wsIy1HYl3gcC",
        "outputId": "939882cc-9de6-4052-d606-9bf5140fcc96"
      },
      "execution_count": 9,
      "outputs": [
        {
          "output_type": "stream",
          "name": "stdout",
          "text": [
            "stock_data  StonksPredictor.ipynb\n"
          ]
        }
      ]
    },
    {
      "cell_type": "code",
      "source": [
        "def read_stock_data(ticker):\n",
        "    prices_df = pd.read_csv(f'/content/drive/My Drive/Stonks Predictor/stock_data/daily_prices/{ticker}_closing_prices.csv', parse_dates=['Date'])\n",
        "    earnings_df = pd.read_csv(f'/content/drive/My Drive/Stonks Predictor/stock_data/earnings/{ticker}_earnings_dates.csv', parse_dates=['Earnings Date'])\n",
        "    return prices_df, earnings_df\n",
        "\n",
        "# Test with AAPL\n",
        "aapl_prices, aapl_earnings = read_stock_data('AAPL')\n",
        "\n",
        "print(\"AAPL Prices:\")\n",
        "print(aapl_prices.head())\n",
        "print(\"\\nAAPL Earnings:\")\n",
        "print(aapl_earnings.head())"
      ],
      "metadata": {
        "colab": {
          "base_uri": "https://localhost:8080/"
        },
        "id": "lZstzDmf3rvr",
        "outputId": "569a0b99-9cd7-473a-8202-d9e429359ebc"
      },
      "execution_count": 10,
      "outputs": [
        {
          "output_type": "stream",
          "name": "stdout",
          "text": [
            "AAPL Prices:\n",
            "                        Date      Close\n",
            "0  2019-07-29 00:00:00-04:00  50.590385\n",
            "1  2019-07-30 00:00:00-04:00  50.373245\n",
            "2  2019-07-31 00:00:00-04:00  51.401077\n",
            "3  2019-08-01 00:00:00-04:00  50.288799\n",
            "4  2019-08-02 00:00:00-04:00  49.224773\n",
            "\n",
            "AAPL Earnings:\n",
            "               Earnings Date  EPS Estimate  Reported EPS  Surprise(%)\n",
            "0  2024-05-02 16:00:00-04:00          1.50          1.53       0.0197\n",
            "1  2024-02-01 16:00:00-05:00          2.10          2.18       0.0390\n",
            "2  2023-11-02 16:00:00-04:00          1.39          1.46       0.0492\n",
            "3  2023-08-03 16:00:00-04:00          1.19          1.26       0.0549\n",
            "4  2023-05-04 16:00:00-04:00          1.43          1.52       0.0603\n"
          ]
        }
      ]
    },
    {
      "cell_type": "code",
      "source": [
        "import os\n",
        "\n",
        "def get_all_tickers():\n",
        "    price_files = os.listdir('/content/drive/My Drive/Stonks Predictor/stock_data/daily_prices')\n",
        "    return [file.split('_')[0] for file in price_files if file.endswith('_closing_prices.csv')]\n",
        "\n",
        "tickers = get_all_tickers()\n",
        "print(f\"Found {len(tickers)} stocks\")"
      ],
      "metadata": {
        "colab": {
          "base_uri": "https://localhost:8080/"
        },
        "id": "T6sH-8ZN34cf",
        "outputId": "9a059d32-2da8-4da4-ff7c-e4b8aff6b944"
      },
      "execution_count": 11,
      "outputs": [
        {
          "output_type": "stream",
          "name": "stdout",
          "text": [
            "Found 112 stocks\n"
          ]
        }
      ]
    },
    {
      "cell_type": "code",
      "source": [
        "def prepare_stock_data(prices_df, earnings_df, lookback_days=60):\n",
        "    data = []\n",
        "    for _, earnings_row in earnings_df.iterrows():\n",
        "        earnings_date = earnings_row['Earnings Date']\n",
        "\n",
        "        try:\n",
        "            earnings_index = prices_df[prices_df['Date'] <= earnings_date].index[-1]\n",
        "        except IndexError:\n",
        "            continue\n",
        "\n",
        "        if earnings_index < lookback_days:\n",
        "            continue\n",
        "\n",
        "        lookback_data = prices_df.loc[earnings_index-lookback_days+1:earnings_index, 'Close'].values\n",
        "\n",
        "        if len(lookback_data) < lookback_days:\n",
        "            continue\n",
        "\n",
        "        # Check for NaN values\n",
        "        if np.isnan(lookback_data).any():\n",
        "            continue\n",
        "\n",
        "        lookback_data = (lookback_data - lookback_data.mean()) / lookback_data.std()\n",
        "\n",
        "        try:\n",
        "            next_day_close = prices_df.loc[earnings_index+1, 'Close']\n",
        "        except KeyError:\n",
        "            continue\n",
        "\n",
        "        price_direction = 1 if next_day_close > prices_df.loc[earnings_index, 'Close'] else 0\n",
        "\n",
        "        data.append((*lookback_data, price_direction))\n",
        "\n",
        "    columns = [f'day_{i}' for i in range(lookback_days)] + ['target']\n",
        "    df = pd.DataFrame(data, columns=columns)\n",
        "    print(f\"Prepared data shape: {df.shape}\")\n",
        "    return df\n",
        "\n",
        "# Prepare AAPL data\n",
        "aapl_prepared = prepare_stock_data(aapl_prices, aapl_earnings)\n",
        "\n",
        "print(\"Prepared AAPL data:\")\n",
        "print(aapl_prepared.head())\n",
        "print(f\"Shape: {aapl_prepared.shape}\")"
      ],
      "metadata": {
        "colab": {
          "base_uri": "https://localhost:8080/"
        },
        "id": "7BMu2-b038U6",
        "outputId": "7a710be1-b91b-40a5-b002-606061da42e1"
      },
      "execution_count": 12,
      "outputs": [
        {
          "output_type": "stream",
          "name": "stdout",
          "text": [
            "Prepared data shape: (8, 61)\n",
            "Prepared AAPL data:\n",
            "      day_0     day_1     day_2     day_3     day_4     day_5     day_6  \\\n",
            "0  2.251649  2.083995  2.202581  1.940765  1.615807  1.478739  1.434078   \n",
            "1 -2.283301 -1.738060 -1.512811 -1.613855 -0.722200 -1.059471 -0.502972   \n",
            "2  0.225071  0.237930  0.595893  0.165049 -0.023577 -0.574458 -0.469420   \n",
            "3 -1.633344 -1.409934 -1.386221 -1.503705 -1.566198 -1.566198 -1.488706   \n",
            "4 -0.888902 -1.035690 -0.983886 -0.586258 -0.677264 -0.379046 -0.605859   \n",
            "\n",
            "      day_7     day_8     day_9  ...    day_51    day_52    day_53    day_54  \\\n",
            "0  1.195364  1.079858  1.196907  ... -1.341154 -1.177905 -0.851406 -0.717419   \n",
            "1 -0.382820 -0.024464 -0.028682  ...  0.856651  1.128579  0.985236  0.915678   \n",
            "2 -0.180055  0.117890  0.951709  ... -0.788804 -0.694491 -1.196065 -2.098481   \n",
            "3 -1.193749 -1.180003 -1.299987  ...  1.018430  1.127162  1.237148  1.077171   \n",
            "4 -0.768270 -1.338106 -1.277904  ...  1.021042  0.802627  0.801227  1.452266   \n",
            "\n",
            "     day_55    day_56    day_57    day_58    day_59  target  \n",
            "0 -0.808284 -0.161450 -0.649654 -0.808284 -0.233833       1  \n",
            "1  0.546786  0.401335 -0.376496 -1.143787 -0.625229       0  \n",
            "2 -1.813394 -1.369698 -1.266805 -0.580887  0.190770       0  \n",
            "3  1.403373  1.480861  1.375879  0.997182  0.820958       0  \n",
            "4  1.630078  1.617477  1.470469  1.317859  1.085444       1  \n",
            "\n",
            "[5 rows x 61 columns]\n",
            "Shape: (8, 61)\n"
          ]
        }
      ]
    },
    {
      "cell_type": "code",
      "source": [
        "def prepare_all_stock_data(tickers, lookback_days=60):\n",
        "    all_data = []\n",
        "    for ticker in tickers:\n",
        "        prices_df, earnings_df = read_stock_data(ticker)\n",
        "        stock_data = prepare_stock_data(prices_df, earnings_df, lookback_days)\n",
        "        stock_data['ticker'] = ticker\n",
        "        all_data.append(stock_data)\n",
        "\n",
        "    combined_data = pd.concat(all_data, ignore_index=True)\n",
        "    print(f\"Combined data shape: {combined_data.shape}\")\n",
        "    return combined_data\n",
        "\n",
        "combined_data = prepare_all_stock_data(tickers)\n",
        "\n",
        "print(\"Combined data sample:\")\n",
        "print(combined_data.head())\n",
        "print(f\"Shape: {combined_data.shape}\")"
      ],
      "metadata": {
        "colab": {
          "base_uri": "https://localhost:8080/"
        },
        "id": "k2eB2gG_3_qs",
        "outputId": "b099798b-23d3-49b0-f1a6-6bc154639595"
      },
      "execution_count": 13,
      "outputs": [
        {
          "output_type": "stream",
          "name": "stdout",
          "text": [
            "Prepared data shape: (8, 61)\n",
            "Prepared data shape: (8, 61)\n",
            "Prepared data shape: (8, 61)\n",
            "Prepared data shape: (8, 61)\n",
            "Prepared data shape: (11, 61)\n",
            "Prepared data shape: (2, 61)\n",
            "Prepared data shape: (8, 61)\n",
            "Prepared data shape: (12, 61)\n",
            "Prepared data shape: (8, 61)\n",
            "Prepared data shape: (8, 61)\n",
            "Prepared data shape: (8, 61)\n",
            "Prepared data shape: (8, 61)\n",
            "Prepared data shape: (11, 61)\n",
            "Prepared data shape: (0, 61)\n",
            "Prepared data shape: (8, 61)\n",
            "Prepared data shape: (8, 61)\n",
            "Prepared data shape: (8, 61)\n",
            "Prepared data shape: (8, 61)\n",
            "Prepared data shape: (8, 61)\n",
            "Prepared data shape: (8, 61)\n",
            "Prepared data shape: (8, 61)\n",
            "Prepared data shape: (8, 61)\n",
            "Prepared data shape: (8, 61)\n",
            "Prepared data shape: (0, 61)\n",
            "Prepared data shape: (8, 61)\n",
            "Prepared data shape: (8, 61)\n",
            "Prepared data shape: (7, 61)\n",
            "Prepared data shape: (8, 61)\n",
            "Prepared data shape: (8, 61)\n",
            "Prepared data shape: (0, 61)\n",
            "Prepared data shape: (8, 61)\n",
            "Prepared data shape: (8, 61)\n",
            "Prepared data shape: (8, 61)\n",
            "Prepared data shape: (8, 61)\n",
            "Prepared data shape: (8, 61)\n",
            "Prepared data shape: (8, 61)\n",
            "Prepared data shape: (1, 61)\n",
            "Prepared data shape: (0, 61)\n",
            "Prepared data shape: (9, 61)\n",
            "Prepared data shape: (8, 61)\n",
            "Prepared data shape: (11, 61)\n",
            "Prepared data shape: (8, 61)\n",
            "Prepared data shape: (7, 61)\n",
            "Prepared data shape: (8, 61)\n",
            "Prepared data shape: (8, 61)\n",
            "Prepared data shape: (5, 61)\n",
            "Prepared data shape: (3, 61)\n",
            "Prepared data shape: (8, 61)\n",
            "Prepared data shape: (8, 61)\n",
            "Prepared data shape: (8, 61)\n",
            "Prepared data shape: (8, 61)\n",
            "Prepared data shape: (8, 61)\n",
            "Prepared data shape: (8, 61)\n",
            "Prepared data shape: (8, 61)\n",
            "Prepared data shape: (8, 61)\n",
            "Prepared data shape: (11, 61)\n",
            "Prepared data shape: (8, 61)\n",
            "Prepared data shape: (8, 61)\n",
            "Prepared data shape: (8, 61)\n",
            "Prepared data shape: (8, 61)\n",
            "Prepared data shape: (8, 61)\n",
            "Prepared data shape: (8, 61)\n",
            "Prepared data shape: (11, 61)\n",
            "Prepared data shape: (8, 61)\n",
            "Prepared data shape: (11, 61)\n",
            "Prepared data shape: (8, 61)\n",
            "Prepared data shape: (8, 61)\n",
            "Prepared data shape: (8, 61)\n",
            "Prepared data shape: (8, 61)\n",
            "Prepared data shape: (8, 61)\n",
            "Prepared data shape: (6, 61)\n",
            "Prepared data shape: (4, 61)\n",
            "Prepared data shape: (8, 61)\n",
            "Prepared data shape: (8, 61)\n",
            "Prepared data shape: (8, 61)\n",
            "Prepared data shape: (8, 61)\n",
            "Prepared data shape: (8, 61)\n",
            "Prepared data shape: (6, 61)\n",
            "Prepared data shape: (10, 61)\n",
            "Prepared data shape: (8, 61)\n",
            "Prepared data shape: (8, 61)\n",
            "Prepared data shape: (8, 61)\n",
            "Prepared data shape: (6, 61)\n",
            "Prepared data shape: (8, 61)\n",
            "Prepared data shape: (8, 61)\n",
            "Prepared data shape: (8, 61)\n",
            "Prepared data shape: (8, 61)\n",
            "Prepared data shape: (8, 61)\n",
            "Prepared data shape: (8, 61)\n",
            "Prepared data shape: (7, 61)\n",
            "Prepared data shape: (8, 61)\n",
            "Prepared data shape: (8, 61)\n",
            "Prepared data shape: (8, 61)\n",
            "Prepared data shape: (8, 61)\n",
            "Prepared data shape: (8, 61)\n",
            "Prepared data shape: (8, 61)\n",
            "Prepared data shape: (8, 61)\n",
            "Prepared data shape: (8, 61)\n",
            "Prepared data shape: (0, 61)\n",
            "Prepared data shape: (8, 61)\n",
            "Prepared data shape: (4, 61)\n",
            "Prepared data shape: (8, 61)\n",
            "Prepared data shape: (8, 61)\n",
            "Prepared data shape: (7, 61)\n",
            "Prepared data shape: (8, 61)\n",
            "Prepared data shape: (0, 61)\n",
            "Prepared data shape: (6, 61)\n",
            "Prepared data shape: (6, 61)\n",
            "Prepared data shape: (8, 61)\n",
            "Prepared data shape: (2, 61)\n",
            "Prepared data shape: (8, 61)\n",
            "Prepared data shape: (8, 61)\n",
            "Combined data shape: (824, 62)\n",
            "Combined data sample:\n",
            "      day_0     day_1     day_2     day_3     day_4     day_5     day_6  \\\n",
            "0 -2.388666 -2.058655 -1.337366 -0.663676 -0.497182  0.125975  1.029964   \n",
            "1 -0.903377 -0.852287 -0.898444 -0.863470 -1.013669 -1.014217 -1.151809   \n",
            "2  1.343111  1.517132  1.550124  1.243410  1.257549  0.719846  0.422530   \n",
            "3 -1.164334 -2.050223 -1.297003 -1.469356 -1.530049 -1.731193 -2.188385   \n",
            "4 -2.023510 -1.735933 -1.467028 -1.623887 -1.746224 -1.329258 -1.677117   \n",
            "\n",
            "      day_7     day_8     day_9  ...    day_52    day_53    day_54    day_55  \\\n",
            "0 -0.140961 -0.540455  0.857777  ...  0.512945  0.730913  1.476606  1.414884   \n",
            "1 -1.035586 -1.152137 -1.032296  ...  1.767683  1.780292  1.767134  1.961424   \n",
            "2  0.179967  0.037110 -0.074564  ...  1.181769  1.285104  1.660734  1.382274   \n",
            "3 -1.785667 -1.684501 -1.407462  ...  0.254381  0.327144  0.150493  0.095241   \n",
            "4 -1.897042 -1.896575 -1.384355  ...  0.898919  1.020321  1.470906  2.171296   \n",
            "\n",
            "     day_56    day_57    day_58    day_59  target  ticker  \n",
            "0  0.986689  1.510772  1.648796  1.549491       1    NVDA  \n",
            "1  1.825245  1.820312  1.473727  1.256632       1    NVDA  \n",
            "2  1.596922  1.530933  1.933756  1.765158       0    NVDA  \n",
            "3  0.077731  1.504950  0.999509  1.562926       1    NVDA  \n",
            "4  1.977988  1.936899  1.709038  1.638999       1    NVDA  \n",
            "\n",
            "[5 rows x 62 columns]\n",
            "Shape: (824, 62)\n"
          ]
        },
        {
          "output_type": "stream",
          "name": "stderr",
          "text": [
            "<ipython-input-13-09eacbdc99b0>:9: FutureWarning: The behavior of DataFrame concatenation with empty or all-NA entries is deprecated. In a future version, this will no longer exclude empty or all-NA columns when determining the result dtypes. To retain the old behavior, exclude the relevant entries before the concat operation.\n",
            "  combined_data = pd.concat(all_data, ignore_index=True)\n"
          ]
        }
      ]
    },
    {
      "cell_type": "code",
      "source": [
        "from pyts.image import GramianAngularField\n",
        "from fastai.vision.all import *\n",
        "from fastai.metrics import accuracy\n",
        "import timm\n",
        "\n",
        "# Assuming combined_data is your existing DataFrame\n",
        "# We'll use the 60 days of price data for each sample\n",
        "X = combined_data[[f'day_{i}' for i in range(60)]].values\n",
        "y = combined_data['target'].values\n",
        "tickers = combined_data['ticker'].values\n",
        "\n",
        "print(\"Shape of X:\", X.shape)\n",
        "print(\"Number of time steps:\", X.shape[1])"
      ],
      "metadata": {
        "id": "ZoZ9ciFp54eQ",
        "colab": {
          "base_uri": "https://localhost:8080/"
        },
        "outputId": "f95c8cd3-8104-4104-de8c-f8aae3599d29"
      },
      "execution_count": 14,
      "outputs": [
        {
          "output_type": "stream",
          "name": "stdout",
          "text": [
            "Shape of X: (824, 60)\n",
            "Number of time steps: 60\n"
          ]
        }
      ]
    },
    {
      "cell_type": "code",
      "source": [
        "def create_gaf_images(X):\n",
        "    n_timestamps = X.shape[1]\n",
        "    print(f\"Creating GAF images with size {n_timestamps}x{n_timestamps}\")\n",
        "    gaf = GramianAngularField(image_size=n_timestamps)\n",
        "    X_gaf = gaf.fit_transform(X)\n",
        "    print(\"Shape of GAF images:\", X_gaf.shape)\n",
        "    # Convert to RGB by repeating the single channel\n",
        "    X_gaf_rgb = np.repeat(X_gaf[:, np.newaxis, :, :], 3, axis=1)\n",
        "    print(\"Shape of RGB GAF images:\", X_gaf_rgb.shape)\n",
        "    return X_gaf_rgb\n",
        "\n",
        "X_images = create_gaf_images(X)"
      ],
      "metadata": {
        "colab": {
          "base_uri": "https://localhost:8080/"
        },
        "id": "IExD44jf_F-T",
        "outputId": "f31c294c-66da-498a-cac1-29b6c3e23eb1"
      },
      "execution_count": 15,
      "outputs": [
        {
          "output_type": "stream",
          "name": "stdout",
          "text": [
            "Creating GAF images with size 60x60\n",
            "Shape of GAF images: (824, 60, 60)\n",
            "Shape of RGB GAF images: (824, 3, 60, 60)\n"
          ]
        }
      ]
    },
    {
      "cell_type": "code",
      "source": [
        "# Create a new DataFrame with image paths and labels\n",
        "image_df = pd.DataFrame({\n",
        "    'ticker': tickers,\n",
        "    'image': [f'image_{i}.png' for i in range(len(X))],\n",
        "    'target': y\n",
        "})\n",
        "\n",
        "print(\"Shape of image_df:\", image_df.shape)\n",
        "print(image_df.head())\n",
        "\n",
        "# Save images (you would normally save these to disk, but for Colab we'll keep them in memory)\n",
        "images = {f'image_{i}.png': X_images[i] for i in range(len(X))}\n",
        "print(\"Number of images created:\", len(images))"
      ],
      "metadata": {
        "colab": {
          "base_uri": "https://localhost:8080/"
        },
        "id": "u67HNTqv_HvY",
        "outputId": "4391c39b-e459-47e0-e271-e2556ec9946b"
      },
      "execution_count": 16,
      "outputs": [
        {
          "output_type": "stream",
          "name": "stdout",
          "text": [
            "Shape of image_df: (824, 3)\n",
            "  ticker        image target\n",
            "0   NVDA  image_0.png      1\n",
            "1   NVDA  image_1.png      1\n",
            "2   NVDA  image_2.png      0\n",
            "3   NVDA  image_3.png      1\n",
            "4   NVDA  image_4.png      1\n",
            "Number of images created: 824\n"
          ]
        }
      ]
    },
    {
      "cell_type": "code",
      "source": [
        "from fastai.vision.all import *\n",
        "import torch\n",
        "\n",
        "# Convert images to a list instead of a dictionary\n",
        "images_list = [torch.from_numpy(img).float() for img in X_images]\n",
        "\n",
        "class InMemoryImageBlock(TransformBlock):\n",
        "    @classmethod\n",
        "    def encodes(cls, img_tensor):\n",
        "        # Ensure img_tensor is 3D (C, H, W)\n",
        "        if img_tensor.dim() == 2:\n",
        "            img_tensor = img_tensor.unsqueeze(0)  # Add channel dimension if it's missing\n",
        "        elif img_tensor.dim() == 4:\n",
        "            img_tensor = img_tensor.squeeze(0)  # Remove batch dimension if it's present\n",
        "\n",
        "        # Normalize to 0-1 range\n",
        "        img_tensor = (img_tensor - img_tensor.min()) / (img_tensor.max() - img_tensor.min())\n",
        "        return TensorImage(img_tensor)\n",
        "\n",
        "    @classmethod\n",
        "    def decodes(cls, x):\n",
        "        return TensorImage(x)\n",
        "\n",
        "# Test the InMemoryImageBlock\n",
        "test_image = InMemoryImageBlock.encodes(images_list[0])\n",
        "print(\"Test image shape after InMemoryImageBlock:\", test_image.shape)\n",
        "print(\"Test image dtype after InMemoryImageBlock:\", test_image.dtype)"
      ],
      "metadata": {
        "colab": {
          "base_uri": "https://localhost:8080/"
        },
        "id": "iHZrYM0x_iI0",
        "outputId": "28588713-c03b-482b-c5af-bd53b8c948af"
      },
      "execution_count": 17,
      "outputs": [
        {
          "output_type": "stream",
          "name": "stdout",
          "text": [
            "Test image shape after InMemoryImageBlock: torch.Size([3, 60, 60])\n",
            "Test image dtype after InMemoryImageBlock: torch.float32\n"
          ]
        }
      ]
    },
    {
      "cell_type": "code",
      "source": [
        "from fastai.vision.all import *\n",
        "import torch\n",
        "import matplotlib.pyplot as plt\n",
        "\n",
        "class SafeResize(Transform):\n",
        "    def __init__(self, size):\n",
        "        self.size = size\n",
        "\n",
        "    def encodes(self, x:TensorImage):\n",
        "        if x.dim() == 3:\n",
        "            x = x.unsqueeze(0)\n",
        "            return TensorImage(F.interpolate(x, size=self.size, mode='bilinear', align_corners=False).squeeze(0))\n",
        "        return x\n",
        "\n",
        "# Create DataBlock\n",
        "dblock = DataBlock(blocks=(InMemoryImageBlock, CategoryBlock),\n",
        "                   get_x=lambda i: images_list[i],  # Get image by index\n",
        "                   get_y=lambda i: str(image_df.iloc[i]['target']),  # Get target by index\n",
        "                   splitter=RandomSplitter(valid_pct=0.2, seed=42),\n",
        "                   item_tfms=[SafeResize(size=(224,224))],\n",
        "                   batch_tfms=aug_transforms())\n",
        "\n",
        "# Create DataLoaders\n",
        "try:\n",
        "    dls = dblock.dataloaders(range(len(image_df)), bs=32, device='cuda' if torch.cuda.is_available() else 'cpu')\n",
        "    print(\"DataLoaders created successfully\")\n",
        "    print(\"Train dataset size:\", len(dls.train_ds))\n",
        "    print(\"Validation dataset size:\", len(dls.valid_ds))\n",
        "\n",
        "    # Custom function to show a batch\n",
        "    def show_batch(dl, nrows=4, ncols=4):\n",
        "        batch = dl.one_batch()\n",
        "        fig, axes = plt.subplots(nrows, ncols, figsize=(15, 15))\n",
        "        for i, ax in enumerate(axes.flat):\n",
        "            if i < len(batch[0]):\n",
        "                img = batch[0][i].permute(1, 2, 0)  # Change from (C, H, W) to (H, W, C)\n",
        "                img = img[:,:,0]  # Take only one channel as they're all the same\n",
        "                ax.imshow(img, cmap='gray')\n",
        "                ax.axis('off')\n",
        "                ax.set_title(f'Class: {\"Up\" if batch[1][i].item() == 1 else \"Down\"}')\n",
        "        plt.suptitle(\"Gramian Angular Field Representations of Stock Price Movements\", fontsize=16)\n",
        "        plt.tight_layout()\n",
        "        plt.show()\n",
        "\n",
        "    # Show a batch\n",
        "    show_batch(dls.train)\n",
        "\n",
        "    # Print shape of a single item in the batch\n",
        "    single_item = dls.one_batch()[0][0]\n",
        "    print(f\"Shape of a single item in batch: {single_item.shape}\")\n",
        "\n",
        "except Exception as e:\n",
        "    print(f\"An error occurred: {str(e)}\")\n",
        "    print(\"Let's print some diagnostic information:\")\n",
        "    print(\"Shape of a single image in images_list:\", images_list[0].shape)\n",
        "    print(\"Data type of a single image in images_list:\", images_list[0].dtype)\n",
        "    print(\"Range of values in a single image:\", images_list[0].min(), \"to\", images_list[0].max())\n",
        "    print(\"First few rows of image_df:\")\n",
        "    print(image_df.head())\n",
        "\n",
        "    # Additional debugging: let's try to process a single item\n",
        "    datasets = dblock.datasets(range(len(image_df)))\n",
        "    single_item = datasets[0]\n",
        "    print(\"Type of single item:\", type(single_item))\n",
        "    if isinstance(single_item, tuple):\n",
        "        print(\"Shape of x in single item:\", single_item[0].shape)\n",
        "        print(\"Value of y in single item:\", single_item[1])\n",
        "\n",
        "# If DataLoaders are created successfully, let's examine a batch\n",
        "if 'dls' in locals():\n",
        "    batch = dls.one_batch()\n",
        "    print(\"Shape of x in batch:\", batch[0].shape)\n",
        "    print(\"Shape of y in batch:\", batch[1].shape)\n"
      ],
      "metadata": {
        "colab": {
          "base_uri": "https://localhost:8080/",
          "height": 1000
        },
        "id": "aqIsEy38_kIx",
        "outputId": "6825c978-da2e-4307-cde9-20f9cd9574f4"
      },
      "execution_count": 18,
      "outputs": [
        {
          "output_type": "stream",
          "name": "stdout",
          "text": [
            "DataLoaders created successfully\n",
            "Train dataset size: 660\n",
            "Validation dataset size: 164\n",
            "An error occurred: can't convert cuda:0 device type tensor to numpy. Use Tensor.cpu() to copy the tensor to host memory first.\n",
            "Let's print some diagnostic information:\n",
            "Shape of a single image in images_list: torch.Size([3, 60, 60])\n",
            "Data type of a single image in images_list: torch.float32\n",
            "Range of values in a single image: tensor(-1.) to tensor(1.)\n",
            "First few rows of image_df:\n",
            "  ticker        image target\n",
            "0   NVDA  image_0.png      1\n",
            "1   NVDA  image_1.png      1\n",
            "2   NVDA  image_2.png      0\n",
            "3   NVDA  image_3.png      1\n",
            "4   NVDA  image_4.png      1\n",
            "Type of single item: <class 'tuple'>\n",
            "Shape of x in single item: torch.Size([3, 60, 60])\n",
            "Value of y in single item: TensorCategory(1)\n",
            "Shape of x in batch: torch.Size([32, 3, 60, 60])\n",
            "Shape of y in batch: torch.Size([32])\n"
          ]
        },
        {
          "output_type": "display_data",
          "data": {
            "text/plain": [
              "<Figure size 1500x1500 with 16 Axes>"
            ],
            "image/png": "[encoded data removed]"
          },
          "metadata": {}
        }
      ]
    },
    {
      "cell_type": "code",
      "source": [
        "import torch\n",
        "from fastai.vision.all import *\n",
        "import timm\n",
        "\n",
        "print(f\"GPU available: {torch.cuda.is_available()}\")\n",
        "if torch.cuda.is_available():\n",
        "    print(f\"GPU name: {torch.cuda.get_device_name(0)}\")\n",
        "\n",
        "def get_pretrained_model():\n",
        "    return timm.create_model('resnet34', pretrained=True, num_classes=2)\n",
        "\n",
        "# Assuming you have already defined and created your dblock and image_df\n",
        "dls = dblock.dataloaders(range(len(image_df)), bs=32, device='cuda' if torch.cuda.is_available() else 'cpu')\n",
        "\n",
        "# Create the model\n",
        "model = get_pretrained_model()\n",
        "\n",
        "# Move the model to GPU if available\n",
        "if torch.cuda.is_available():\n",
        "    model = model.cuda()\n",
        "\n",
        "# Create a custom learner\n",
        "learn = Learner(dls, model, loss_func=nn.CrossEntropyLoss(), metrics=[accuracy, error_rate])\n",
        "\n",
        "# Find a good learning rate\n",
        "learn.lr_find()\n",
        "\n",
        "# Train the model\n",
        "learn.fit_one_cycle(5, 1e-3)"
      ],
      "metadata": {
        "colab": {
          "base_uri": "https://localhost:8080/",
          "height": 678
        },
        "id": "0S7JmvzP_usk",
        "outputId": "2499a125-8254-4106-8c97-4dae87817837"
      },
      "execution_count": 20,
      "outputs": [
        {
          "output_type": "stream",
          "name": "stdout",
          "text": [
            "GPU available: True\n",
            "GPU name: Tesla T4\n"
          ]
        },
        {
          "output_type": "display_data",
          "data": {
            "text/plain": [
              "<IPython.core.display.HTML object>"
            ],
            "text/html": [
              "\n",
              "<style>\n",
              "    /* Turns off some styling */\n",
              "    progress {\n",
              "        /* gets rid of default border in Firefox and Opera. */\n",
              "        border: none;\n",
              "        /* Needs to be in here for Safari polyfill so background images work as expected. */\n",
              "        background-size: auto;\n",
              "    }\n",
              "    progress:not([value]), progress:not([value])::-webkit-progress-bar {\n",
              "        background: repeating-linear-gradient(45deg, #7e7e7e, #7e7e7e 10px, #5c5c5c 10px, #5c5c5c 20px);\n",
              "    }\n",
              "    .progress-bar-interrupted, .progress-bar-interrupted::-webkit-progress-bar {\n",
              "        background: #F44336;\n",
              "    }\n",
              "</style>\n"
            ]
          },
          "metadata": {}
        },
        {
          "output_type": "display_data",
          "data": {
            "text/plain": [
              "<IPython.core.display.HTML object>"
            ],
            "text/html": []
          },
          "metadata": {}
        },
        {
          "output_type": "display_data",
          "data": {
            "text/plain": [
              "<IPython.core.display.HTML object>"
            ],
            "text/html": [
              "\n",
              "<style>\n",
              "    /* Turns off some styling */\n",
              "    progress {\n",
              "        /* gets rid of default border in Firefox and Opera. */\n",
              "        border: none;\n",
              "        /* Needs to be in here for Safari polyfill so background images work as expected. */\n",
              "        background-size: auto;\n",
              "    }\n",
              "    progress:not([value]), progress:not([value])::-webkit-progress-bar {\n",
              "        background: repeating-linear-gradient(45deg, #7e7e7e, #7e7e7e 10px, #5c5c5c 10px, #5c5c5c 20px);\n",
              "    }\n",
              "    .progress-bar-interrupted, .progress-bar-interrupted::-webkit-progress-bar {\n",
              "        background: #F44336;\n",
              "    }\n",
              "</style>\n"
            ]
          },
          "metadata": {}
        },
        {
          "output_type": "display_data",
          "data": {
            "text/plain": [
              "<IPython.core.display.HTML object>"
            ],
            "text/html": [
              "<table border=\"1\" class=\"dataframe\">\n",
              "  <thead>\n",
              "    <tr style=\"text-align: left;\">\n",
              "      <th>epoch</th>\n",
              "      <th>train_loss</th>\n",
              "      <th>valid_loss</th>\n",
              "      <th>accuracy</th>\n",
              "      <th>error_rate</th>\n",
              "      <th>time</th>\n",
              "    </tr>\n",
              "  </thead>\n",
              "  <tbody>\n",
              "    <tr>\n",
              "      <td>0</td>\n",
              "      <td>0.718117</td>\n",
              "      <td>0.732032</td>\n",
              "      <td>0.530488</td>\n",
              "      <td>0.469512</td>\n",
              "      <td>00:02</td>\n",
              "    </tr>\n",
              "    <tr>\n",
              "      <td>1</td>\n",
              "      <td>0.691059</td>\n",
              "      <td>0.711447</td>\n",
              "      <td>0.493902</td>\n",
              "      <td>0.506098</td>\n",
              "      <td>00:01</td>\n",
              "    </tr>\n",
              "    <tr>\n",
              "      <td>2</td>\n",
              "      <td>0.655941</td>\n",
              "      <td>0.744764</td>\n",
              "      <td>0.518293</td>\n",
              "      <td>0.481707</td>\n",
              "      <td>00:01</td>\n",
              "    </tr>\n",
              "    <tr>\n",
              "      <td>3</td>\n",
              "      <td>0.604597</td>\n",
              "      <td>0.745156</td>\n",
              "      <td>0.542683</td>\n",
              "      <td>0.457317</td>\n",
              "      <td>00:01</td>\n",
              "    </tr>\n",
              "    <tr>\n",
              "      <td>4</td>\n",
              "      <td>0.554465</td>\n",
              "      <td>0.726316</td>\n",
              "      <td>0.518293</td>\n",
              "      <td>0.481707</td>\n",
              "      <td>00:01</td>\n",
              "    </tr>\n",
              "  </tbody>\n",
              "</table>"
            ]
          },
          "metadata": {}
        },
        {
          "output_type": "display_data",
          "data": {
            "text/plain": [
              "<Figure size 640x480 with 1 Axes>"
            ],
            "image/png": "[encoded data removed]"
          },
          "metadata": {}
        }
      ]
    },
    {
      "cell_type": "code",
      "source": [
        "# Replace learn.show_results() with this custom visualization\n",
        "def show_results(learn, rows=3, cols=3):\n",
        "    interp = ClassificationInterpretation.from_learner(learn)\n",
        "    losses, idxs = interp.top_losses(rows*cols)\n",
        "    fig, axes = plt.subplots(rows, cols, figsize=(cols*4, rows*4))\n",
        "    for i, ax in enumerate(axes.flat):\n",
        "        if i < len(idxs):\n",
        "            img, label = learn.dls.valid_ds[idxs[i]]\n",
        "            img = img.permute(1, 2, 0)  # Change from (C, H, W) to (H, W, C)\n",
        "            img = img[:,:,0]  # Take only one channel as they're all the same\n",
        "            ax.imshow(img, cmap='gray')\n",
        "            ax.set_title(f'True: {label}\\nPred: {interp.pred_class[idxs[i]]}')\n",
        "            ax.axis('off')\n",
        "    plt.tight_layout()\n",
        "    plt.show()\n",
        "\n",
        "# Use this function instead of learn.show_results()\n",
        "show_results(learn)\n",
        "\n",
        "# The rest of your code remains the same\n",
        "learn.recorder.plot_loss()\n",
        "\n",
        "interp = ClassificationInterpretation.from_learner(learn)\n",
        "interp.plot_confusion_matrix()\n",
        "\n",
        "print(interp.classification_report())\n",
        "\n",
        "interp.plot_top_losses(9)"
      ],
      "metadata": {
        "colab": {
          "base_uri": "https://localhost:8080/",
          "height": 1000
        },
        "id": "onP4Yuy4CbcZ",
        "outputId": "a9a4b3ab-95dc-4eaa-872e-cf63b1719844"
      },
      "execution_count": 22,
      "outputs": [
        {
          "output_type": "display_data",
          "data": {
            "text/plain": [
              "<IPython.core.display.HTML object>"
            ],
            "text/html": [
              "\n",
              "<style>\n",
              "    /* Turns off some styling */\n",
              "    progress {\n",
              "        /* gets rid of default border in Firefox and Opera. */\n",
              "        border: none;\n",
              "        /* Needs to be in here for Safari polyfill so background images work as expected. */\n",
              "        background-size: auto;\n",
              "    }\n",
              "    progress:not([value]), progress:not([value])::-webkit-progress-bar {\n",
              "        background: repeating-linear-gradient(45deg, #7e7e7e, #7e7e7e 10px, #5c5c5c 10px, #5c5c5c 20px);\n",
              "    }\n",
              "    .progress-bar-interrupted, .progress-bar-interrupted::-webkit-progress-bar {\n",
              "        background: #F44336;\n",
              "    }\n",
              "</style>\n"
            ]
          },
          "metadata": {}
        },
        {
          "output_type": "display_data",
          "data": {
            "text/plain": [
              "<IPython.core.display.HTML object>"
            ],
            "text/html": []
          },
          "metadata": {}
        },
        {
          "output_type": "error",
          "ename": "AttributeError",
          "evalue": "'ClassificationInterpretation' object has no attribute 'preds'",
          "traceback": [
            "\u001b[0;31m---------------------------------------------------------------------------\u001b[0m",
            "\u001b[0;31mAttributeError\u001b[0m                            Traceback (most recent call last)",
            "\u001b[0;32m<ipython-input-22-f93138451e78>\u001b[0m in \u001b[0;36m<cell line: 19>\u001b[0;34m()\u001b[0m\n\u001b[1;32m     17\u001b[0m \u001b[0;34m\u001b[0m\u001b[0m\n\u001b[1;32m     18\u001b[0m \u001b[0;31m# Use this function instead of learn.show_results()\u001b[0m\u001b[0;34m\u001b[0m\u001b[0;34m\u001b[0m\u001b[0m\n\u001b[0;32m---> 19\u001b[0;31m \u001b[0mshow_results\u001b[0m\u001b[0;34m(\u001b[0m\u001b[0mlearn\u001b[0m\u001b[0;34m)\u001b[0m\u001b[0;34m\u001b[0m\u001b[0;34m\u001b[0m\u001b[0m\n\u001b[0m\u001b[1;32m     20\u001b[0m \u001b[0;34m\u001b[0m\u001b[0m\n\u001b[1;32m     21\u001b[0m \u001b[0;31m# The rest of your code remains the same\u001b[0m\u001b[0;34m\u001b[0m\u001b[0;34m\u001b[0m\u001b[0m\n",
            "\u001b[0;32m<ipython-input-22-f93138451e78>\u001b[0m in \u001b[0;36mshow_results\u001b[0;34m(learn, rows, cols)\u001b[0m\n\u001b[1;32m     11\u001b[0m             \u001b[0max\u001b[0m\u001b[0;34m.\u001b[0m\u001b[0mimshow\u001b[0m\u001b[0;34m(\u001b[0m\u001b[0mimg\u001b[0m\u001b[0;34m,\u001b[0m \u001b[0mcmap\u001b[0m\u001b[0;34m=\u001b[0m\u001b[0;34m'gray'\u001b[0m\u001b[0;34m)\u001b[0m\u001b[0;34m\u001b[0m\u001b[0;34m\u001b[0m\u001b[0m\n\u001b[1;32m     12\u001b[0m             \u001b[0;31m# Use interp.preds to get predictions instead of interp.pred_class\u001b[0m\u001b[0;34m\u001b[0m\u001b[0;34m\u001b[0m\u001b[0m\n\u001b[0;32m---> 13\u001b[0;31m             \u001b[0max\u001b[0m\u001b[0;34m.\u001b[0m\u001b[0mset_title\u001b[0m\u001b[0;34m(\u001b[0m\u001b[0;34mf'True: {label}\\nPred: {interp.preds[idxs[i]].argmax()}'\u001b[0m\u001b[0;34m)\u001b[0m\u001b[0;34m\u001b[0m\u001b[0;34m\u001b[0m\u001b[0m\n\u001b[0m\u001b[1;32m     14\u001b[0m             \u001b[0max\u001b[0m\u001b[0;34m.\u001b[0m\u001b[0maxis\u001b[0m\u001b[0;34m(\u001b[0m\u001b[0;34m'off'\u001b[0m\u001b[0;34m)\u001b[0m\u001b[0;34m\u001b[0m\u001b[0;34m\u001b[0m\u001b[0m\n\u001b[1;32m     15\u001b[0m     \u001b[0mplt\u001b[0m\u001b[0;34m.\u001b[0m\u001b[0mtight_layout\u001b[0m\u001b[0;34m(\u001b[0m\u001b[0;34m)\u001b[0m\u001b[0;34m\u001b[0m\u001b[0;34m\u001b[0m\u001b[0m\n",
            "\u001b[0;31mAttributeError\u001b[0m: 'ClassificationInterpretation' object has no attribute 'preds'"
          ]
        },
        {
          "output_type": "display_data",
          "data": {
            "text/plain": [
              "<Figure size 1200x1200 with 9 Axes>"
            ],
            "image/png": "[encoded data removed]"
          },
          "metadata": {}
        }
      ]
    },
    {
      "cell_type": "code",
      "source": [
        "import pickle\n",
        "\n",
        "# Save a variable (e.g., a trained model)\n",
        "with open('/content/drive/My Drive/Stonks Predictor/model.pkl', 'wb') as file:\n",
        "    pickle.dump(model, file)"
      ],
      "metadata": {
        "id": "zhqtTQCeFa4x"
      },
      "execution_count": 26,
      "outputs": []
    },
    {
      "cell_type": "code",
      "source": [
        "# restore later\n",
        "with open('/content/drive/My Drive/Stonks Predictor/model.pkl', 'rb') as file:\n",
        "    model = pickle.load(file)"
      ],
      "metadata": {
        "id": "74YTG7yZGz6W"
      },
      "execution_count": 25,
      "outputs": []
    }
  ]
}